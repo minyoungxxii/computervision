{
  "cells": [
    {
      "cell_type": "markdown",
      "metadata": {
        "id": "ZENlFMFZkW65"
      },
      "source": [
        "# 목차\n",
        "\n",
        "- AutoML 이란?\n",
        "- 기계학습 적용 절차\n",
        "\n",
        "  - 데이터 전처리\n",
        "  - 특징 공학\n",
        "  - 알고리즘 선택\n",
        "  - 하이퍼파라미터 최적화\n",
        "\n",
        "- preview"
      ]
    },
    {
      "cell_type": "markdown",
      "metadata": {
        "id": "xYpdSliGl91F"
      },
      "source": [
        "---"
      ]
    },
    {
      "cell_type": "markdown",
      "metadata": {
        "id": "QLsU8dK3Fgbn"
      },
      "source": [
        "# AutoML 이란?"
      ]
    },
    {
      "cell_type": "markdown",
      "metadata": {
        "id": "BaS8Dw_Md9mu"
      },
      "source": [
        "> Automated Machine Learning의 약어인 AutoML은 현실의 문제에 기계학습 적용 과정을 전문가 없이 자동화 (출처: 위키피디아)"
      ]
    },
    {
      "cell_type": "markdown",
      "metadata": {
        "id": "w93i-R2Ug9Tj"
      },
      "source": [
        "AutoML은 기계학습 적용 시 적합한 모델을 찾기 위해 활용되는 모델입니다. 그렇다면 기계학습 적용 절차는 어떻게 될까요?"
      ]
    },
    {
      "cell_type": "markdown",
      "metadata": {
        "id": "QppIFuNtot1x"
      },
      "source": [
        "## 기계학습 적용 절차"
      ]
    },
    {
      "cell_type": "markdown",
      "metadata": {
        "id": "hFDY6HcPeGzE"
      },
      "source": [
        "###  (1) 데이터 전처리(Data Preprocessing)\n",
        "\n",
        "처음 얻어진 데이터는 바로 기계학습 모델에 사용할 수 있을까요? 아닙니다. 데이터에 빈 칸이 있을 수도 있고, 잘못된 값이 있을 수 있고, 자료형이 적합하지 않을 수 있습니다. 이와 같이 데이터에서 발생한 기초적인 문제를 해결하고, 데이터를 모델에 활용할 수 있는 형태로 변형시키는 과정입니다.\n",
        "\n",
        "### (2) 특징 공학(Feature Engineering)\n",
        "\n",
        "데이터에서 특징을 얻는 과정입니다. 이 때, 특징은 정확하게 표현한 것은 아니지만 간단히 '정보'라고 할 수 있습니다. 하지만 이렇게 추출된 특징은 해석이 가능한 정보일 수도 있고, 해석이 불가능한 정보일 수도 있죠.\n",
        "\n",
        "특징공학은 아래와 같이 크게 두가지로 구분할 수 있습니다.\n",
        "\n",
        "- 특징 추출(Feature Extraction)\n",
        "\n",
        "  특징 추출은 데이터를 조합하여 새로운 특징을 얻어내는 것을 이야기합니다. 간단히, 새로운 변수 생성이라고 볼 수 있습니다.\n",
        "\n",
        "- 특징 선택(Feature Selection)\n",
        "\n",
        "  특징 선택은 주어진 특징 중 적합한 특징을 선택하는 과정입니다. 기존에 존재하던 특징 값인 데이터 값 중에서 선택될 수도 있고, 추출된 특징 중 선택될 수도 있습니다.\n",
        "\n",
        "### (3) 알고리즘 선택(Algorithm selection)\n",
        "\n",
        "우리가 어떤 문제를 풀려고할 때, 방법을 결정해야 합니다. 예로, 이미지 분류에 적합한 모델과 번역에 적합한 모델은 다르기 때문에 적합한 모델을 결정해야하죠.\n",
        "크게는 회귀모형, MLP(Multi-Layer Perceptron)과 같이 아주 다른 모형을 선택하는 것과, 작게는 MLP 내에서 몇 개의 Layer를 쌓을 것인지, Dropout Layer를 사용할 것인지와 같은 구조를 결정하는 것을 포함합니다. 여기에는 저희가 차후에 다룰 신경망구조탐색(NAS, Network Architecture Search)가 한 부분을 차지합니다.\n",
        "\n",
        "### (4) 하이퍼 파라미터 최적화(Hyperparameter optimization)\n",
        "\n",
        "알고리즘이 선택되었다면 다음 절차는 무엇일까요? 알고리즘 내 설정해야하는 하이퍼 파라미터를 결정하는 일입니다. 하이퍼 파라미터는 모델의 성능에 아주 큰 영향을 미칩니다. 다시말해, 좋은 모델을 만들기 위해서는 적절한 하이퍼파라미터가 설정이되어야합니다. 적절한 하이퍼 파라미터를 찾는 과정, 하이퍼파라미터 최적화입니다."
      ]
    },
    {
      "cell_type": "markdown",
      "metadata": {
        "id": "CWjPMeKOe7n5"
      },
      "source": [
        "---"
      ]
    },
    {
      "cell_type": "markdown",
      "metadata": {
        "id": "zLtEftlQei4c"
      },
      "source": [
        "본 시리즈에서는 AutoML에 대해 전반적으로 다루며, 이론과 관련하여서는 특히 __'하이퍼 파라미터 최적화'__(HPO, Hyperparameter Optimization)과 __'신경망구조 탐색'__(NAS, Nueral Architecture Search)를 중점적으로 다룰 예정입니다.\n",
        "\n",
        "이후, 알려져있는 몇몇 라이브러리 활용하여 기계학습 모델을 직접 구축해보고 코드를 공유할 예정입니다."
      ]
    }
  ],
  "metadata": {
    "colab": {
      "name": "MAT 01_AutoML이란.ipynb",
      "provenance": []
    },
    "kernelspec": {
      "display_name": "Python 3",
      "name": "python3"
    },
    "language_info": {
      "name": "python"
    }
  },
  "nbformat": 4,
  "nbformat_minor": 0
}
