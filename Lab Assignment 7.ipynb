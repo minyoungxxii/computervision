{
 "cells": [
  {
   "cell_type": "code",
   "execution_count": 1,
   "metadata": {},
   "outputs": [],
   "source": [
    "import torch\n",
    "import torch.nn as nn\n",
    "import torch.optim as optim\n",
    "import torch.nn.functional as F\n",
    "from torchvision import datasets, transforms\n",
    "import numpy as np\n",
    "from tqdm import tqdm"
   ]
  },
  {
   "cell_type": "code",
   "execution_count": 46,
   "metadata": {},
   "outputs": [],
   "source": [
    "# 2) 딥러닝 모델 만들기\n",
    "# MLP Multi-layer Perceptron\n",
    "class MLP(nn.Module):\n",
    "    def __init__(self):\n",
    "        super(MLP, self).__init__()\n",
    "        \n",
    "        # 해당 모델의 디자인을 작성하는 곳\n",
    "        self.fc1 = nn.Linear(784, 512) # -> nn.Linear(784, 512)\n",
    "        self.fc2 = nn.Linear(512, 256)\n",
    "        self.fc3 = nn.Linear(256, 10)\n",
    "        self.dropout1 = nn.Dropout(0.25)\n",
    "        self.dropout2 = nn.Dropout(0.5)        \n",
    "\n",
    "    def forward(self, x):\n",
    "        # check is 1d\n",
    "        x = x.view(-1, 28 * 28) # flatten, x -> [256 (batch) x 28 (width) x 28 (height)] -> [256, 784]\n",
    "        x = self.fc1(x)     # [256 x 784] * [784 x 512] -> [256 x 512]\n",
    "        x = F.relu(x)       # Activation Function (활성화 함수)\n",
    "        x = self.dropout1(x)    # 인공지능 모델이 너무 좋아요 -> overfitting 발생\n",
    "        x = self.fc2(x)     # [1 x 512] * [512 x 256] -> [1 x 256]\n",
    "        x = F.relu(x)\n",
    "        x = self.dropout2(x)\n",
    "        x = self.fc3(x)     # [1 x 256] * [256 x 10] -> [1 x 10]\n",
    "        x = F.log_softmax(x, dim=1) # [1 x 10] -> [1 x 10] 0-1 사이의 값을 갖는 확률로 표현되어있음\n",
    "        return x"
   ]
  },
  {
   "cell_type": "code",
   "execution_count": 52,
   "metadata": {},
   "outputs": [
    {
     "name": "stdout",
     "output_type": "stream",
     "text": [
      "Epoch: [0/10], Iterations: [1/235], Running Loss: [2.3047]\n",
      "Epoch: [0/10], Iterations: [101/235], Running Loss: [0.30242]\n",
      "Epoch: [0/10], Iterations: [201/235], Running Loss: [0.18379]\n",
      "Epoch: [1/10], Iterations: [1/235], Running Loss: [0.18747]\n",
      "Epoch: [1/10], Iterations: [101/235], Running Loss: [0.17213]\n"
     ]
    },
    {
     "ename": "KeyboardInterrupt",
     "evalue": "",
     "output_type": "error",
     "traceback": [
      "\u001b[1;31m---------------------------------------------------------------------------\u001b[0m",
      "\u001b[1;31mKeyboardInterrupt\u001b[0m                         Traceback (most recent call last)",
      "\u001b[1;32mh:\\내 드라이브\\professional\\잔재주-브랜딩\\서비스 (컨설팅, 강의, 전자책)\\컨설팅\\[잔재주-딥러닝 개인과외] 정민영님\\Lab Assignment 7\\LA7.ipynb Cell 6\u001b[0m line \u001b[0;36m2\n\u001b[0;32m     <a href='vscode-notebook-cell:/h%3A/%EB%82%B4%20%EB%93%9C%EB%9D%BC%EC%9D%B4%EB%B8%8C/professional/%EC%9E%94%EC%9E%AC%EC%A3%BC-%EB%B8%8C%EB%9E%9C%EB%94%A9/%EC%84%9C%EB%B9%84%EC%8A%A4%20%28%EC%BB%A8%EC%84%A4%ED%8C%85%2C%20%EA%B0%95%EC%9D%98%2C%20%EC%A0%84%EC%9E%90%EC%B1%85%29/%EC%BB%A8%EC%84%A4%ED%8C%85/%5B%EC%9E%94%EC%9E%AC%EC%A3%BC-%EB%94%A5%EB%9F%AC%EB%8B%9D%20%EA%B0%9C%EC%9D%B8%EA%B3%BC%EC%99%B8%5D%20%EC%A0%95%EB%AF%BC%EC%98%81%EB%8B%98/Lab%20Assignment%207/LA7.ipynb#X26sZmlsZQ%3D%3D?line=21'>22</a>\u001b[0m \u001b[39mfor\u001b[39;00m epoch \u001b[39min\u001b[39;00m \u001b[39mrange\u001b[39m(epochs):\n\u001b[0;32m     <a href='vscode-notebook-cell:/h%3A/%EB%82%B4%20%EB%93%9C%EB%9D%BC%EC%9D%B4%EB%B8%8C/professional/%EC%9E%94%EC%9E%AC%EC%A3%BC-%EB%B8%8C%EB%9E%9C%EB%94%A9/%EC%84%9C%EB%B9%84%EC%8A%A4%20%28%EC%BB%A8%EC%84%A4%ED%8C%85%2C%20%EA%B0%95%EC%9D%98%2C%20%EC%A0%84%EC%9E%90%EC%B1%85%29/%EC%BB%A8%EC%84%A4%ED%8C%85/%5B%EC%9E%94%EC%9E%AC%EC%A3%BC-%EB%94%A5%EB%9F%AC%EB%8B%9D%20%EA%B0%9C%EC%9D%B8%EA%B3%BC%EC%99%B8%5D%20%EC%A0%95%EB%AF%BC%EC%98%81%EB%8B%98/Lab%20Assignment%207/LA7.ipynb#X26sZmlsZQ%3D%3D?line=22'>23</a>\u001b[0m     model\u001b[39m.\u001b[39mtrain()   \u001b[39m# 너 학습하는 중이야\u001b[39;00m\n\u001b[1;32m---> <a href='vscode-notebook-cell:/h%3A/%EB%82%B4%20%EB%93%9C%EB%9D%BC%EC%9D%B4%EB%B8%8C/professional/%EC%9E%94%EC%9E%AC%EC%A3%BC-%EB%B8%8C%EB%9E%9C%EB%94%A9/%EC%84%9C%EB%B9%84%EC%8A%A4%20%28%EC%BB%A8%EC%84%A4%ED%8C%85%2C%20%EA%B0%95%EC%9D%98%2C%20%EC%A0%84%EC%9E%90%EC%B1%85%29/%EC%BB%A8%EC%84%A4%ED%8C%85/%5B%EC%9E%94%EC%9E%AC%EC%A3%BC-%EB%94%A5%EB%9F%AC%EB%8B%9D%20%EA%B0%9C%EC%9D%B8%EA%B3%BC%EC%99%B8%5D%20%EC%A0%95%EB%AF%BC%EC%98%81%EB%8B%98/Lab%20Assignment%207/LA7.ipynb#X26sZmlsZQ%3D%3D?line=24'>25</a>\u001b[0m     \u001b[39mfor\u001b[39;00m iter_idx, (data, target) \u001b[39min\u001b[39;00m \u001b[39menumerate\u001b[39m(train_loader):\n\u001b[0;32m     <a href='vscode-notebook-cell:/h%3A/%EB%82%B4%20%EB%93%9C%EB%9D%BC%EC%9D%B4%EB%B8%8C/professional/%EC%9E%94%EC%9E%AC%EC%A3%BC-%EB%B8%8C%EB%9E%9C%EB%94%A9/%EC%84%9C%EB%B9%84%EC%8A%A4%20%28%EC%BB%A8%EC%84%A4%ED%8C%85%2C%20%EA%B0%95%EC%9D%98%2C%20%EC%A0%84%EC%9E%90%EC%B1%85%29/%EC%BB%A8%EC%84%A4%ED%8C%85/%5B%EC%9E%94%EC%9E%AC%EC%A3%BC-%EB%94%A5%EB%9F%AC%EB%8B%9D%20%EA%B0%9C%EC%9D%B8%EA%B3%BC%EC%99%B8%5D%20%EC%A0%95%EB%AF%BC%EC%98%81%EB%8B%98/Lab%20Assignment%207/LA7.ipynb#X26sZmlsZQ%3D%3D?line=25'>26</a>\u001b[0m         \u001b[39m# data >> [256 x [1 x 28 x 28]]\u001b[39;00m\n\u001b[0;32m     <a href='vscode-notebook-cell:/h%3A/%EB%82%B4%20%EB%93%9C%EB%9D%BC%EC%9D%B4%EB%B8%8C/professional/%EC%9E%94%EC%9E%AC%EC%A3%BC-%EB%B8%8C%EB%9E%9C%EB%94%A9/%EC%84%9C%EB%B9%84%EC%8A%A4%20%28%EC%BB%A8%EC%84%A4%ED%8C%85%2C%20%EA%B0%95%EC%9D%98%2C%20%EC%A0%84%EC%9E%90%EC%B1%85%29/%EC%BB%A8%EC%84%A4%ED%8C%85/%5B%EC%9E%94%EC%9E%AC%EC%A3%BC-%EB%94%A5%EB%9F%AC%EB%8B%9D%20%EA%B0%9C%EC%9D%B8%EA%B3%BC%EC%99%B8%5D%20%EC%A0%95%EB%AF%BC%EC%98%81%EB%8B%98/Lab%20Assignment%207/LA7.ipynb#X26sZmlsZQ%3D%3D?line=26'>27</a>\u001b[0m         \u001b[39m# target >> [256 (0-9)]\u001b[39;00m\n\u001b[0;32m     <a href='vscode-notebook-cell:/h%3A/%EB%82%B4%20%EB%93%9C%EB%9D%BC%EC%9D%B4%EB%B8%8C/professional/%EC%9E%94%EC%9E%AC%EC%A3%BC-%EB%B8%8C%EB%9E%9C%EB%94%A9/%EC%84%9C%EB%B9%84%EC%8A%A4%20%28%EC%BB%A8%EC%84%A4%ED%8C%85%2C%20%EA%B0%95%EC%9D%98%2C%20%EC%A0%84%EC%9E%90%EC%B1%85%29/%EC%BB%A8%EC%84%A4%ED%8C%85/%5B%EC%9E%94%EC%9E%AC%EC%A3%BC-%EB%94%A5%EB%9F%AC%EB%8B%9D%20%EA%B0%9C%EC%9D%B8%EA%B3%BC%EC%99%B8%5D%20%EC%A0%95%EB%AF%BC%EC%98%81%EB%8B%98/Lab%20Assignment%207/LA7.ipynb#X26sZmlsZQ%3D%3D?line=28'>29</a>\u001b[0m         optimizer\u001b[39m.\u001b[39mzero_grad()   \u001b[39m# 데이터를 모델에 넣어주기전에 optimizer.zero_grad() 꼭해줘야합니다.\u001b[39;00m\n\u001b[0;32m     <a href='vscode-notebook-cell:/h%3A/%EB%82%B4%20%EB%93%9C%EB%9D%BC%EC%9D%B4%EB%B8%8C/professional/%EC%9E%94%EC%9E%AC%EC%A3%BC-%EB%B8%8C%EB%9E%9C%EB%94%A9/%EC%84%9C%EB%B9%84%EC%8A%A4%20%28%EC%BB%A8%EC%84%A4%ED%8C%85%2C%20%EA%B0%95%EC%9D%98%2C%20%EC%A0%84%EC%9E%90%EC%B1%85%29/%EC%BB%A8%EC%84%A4%ED%8C%85/%5B%EC%9E%94%EC%9E%AC%EC%A3%BC-%EB%94%A5%EB%9F%AC%EB%8B%9D%20%EA%B0%9C%EC%9D%B8%EA%B3%BC%EC%99%B8%5D%20%EC%A0%95%EB%AF%BC%EC%98%81%EB%8B%98/Lab%20Assignment%207/LA7.ipynb#X26sZmlsZQ%3D%3D?line=29'>30</a>\u001b[0m         output \u001b[39m=\u001b[39m model(data)    \u001b[39m# 실제로 데이터를 모델에 넣어주는 부분\u001b[39;00m\n",
      "File \u001b[1;32mc:\\Users\\jaeju\\anaconda3\\envs\\sample\\lib\\site-packages\\torch\\utils\\data\\dataloader.py:630\u001b[0m, in \u001b[0;36m_BaseDataLoaderIter.__next__\u001b[1;34m(self)\u001b[0m\n\u001b[0;32m    627\u001b[0m \u001b[39mif\u001b[39;00m \u001b[39mself\u001b[39m\u001b[39m.\u001b[39m_sampler_iter \u001b[39mis\u001b[39;00m \u001b[39mNone\u001b[39;00m:\n\u001b[0;32m    628\u001b[0m     \u001b[39m# TODO(https://github.com/pytorch/pytorch/issues/76750)\u001b[39;00m\n\u001b[0;32m    629\u001b[0m     \u001b[39mself\u001b[39m\u001b[39m.\u001b[39m_reset()  \u001b[39m# type: ignore[call-arg]\u001b[39;00m\n\u001b[1;32m--> 630\u001b[0m data \u001b[39m=\u001b[39m \u001b[39mself\u001b[39;49m\u001b[39m.\u001b[39;49m_next_data()\n\u001b[0;32m    631\u001b[0m \u001b[39mself\u001b[39m\u001b[39m.\u001b[39m_num_yielded \u001b[39m+\u001b[39m\u001b[39m=\u001b[39m \u001b[39m1\u001b[39m\n\u001b[0;32m    632\u001b[0m \u001b[39mif\u001b[39;00m \u001b[39mself\u001b[39m\u001b[39m.\u001b[39m_dataset_kind \u001b[39m==\u001b[39m _DatasetKind\u001b[39m.\u001b[39mIterable \u001b[39mand\u001b[39;00m \\\n\u001b[0;32m    633\u001b[0m         \u001b[39mself\u001b[39m\u001b[39m.\u001b[39m_IterableDataset_len_called \u001b[39mis\u001b[39;00m \u001b[39mnot\u001b[39;00m \u001b[39mNone\u001b[39;00m \u001b[39mand\u001b[39;00m \\\n\u001b[0;32m    634\u001b[0m         \u001b[39mself\u001b[39m\u001b[39m.\u001b[39m_num_yielded \u001b[39m>\u001b[39m \u001b[39mself\u001b[39m\u001b[39m.\u001b[39m_IterableDataset_len_called:\n",
      "File \u001b[1;32mc:\\Users\\jaeju\\anaconda3\\envs\\sample\\lib\\site-packages\\torch\\utils\\data\\dataloader.py:674\u001b[0m, in \u001b[0;36m_SingleProcessDataLoaderIter._next_data\u001b[1;34m(self)\u001b[0m\n\u001b[0;32m    672\u001b[0m \u001b[39mdef\u001b[39;00m \u001b[39m_next_data\u001b[39m(\u001b[39mself\u001b[39m):\n\u001b[0;32m    673\u001b[0m     index \u001b[39m=\u001b[39m \u001b[39mself\u001b[39m\u001b[39m.\u001b[39m_next_index()  \u001b[39m# may raise StopIteration\u001b[39;00m\n\u001b[1;32m--> 674\u001b[0m     data \u001b[39m=\u001b[39m \u001b[39mself\u001b[39;49m\u001b[39m.\u001b[39;49m_dataset_fetcher\u001b[39m.\u001b[39;49mfetch(index)  \u001b[39m# may raise StopIteration\u001b[39;00m\n\u001b[0;32m    675\u001b[0m     \u001b[39mif\u001b[39;00m \u001b[39mself\u001b[39m\u001b[39m.\u001b[39m_pin_memory:\n\u001b[0;32m    676\u001b[0m         data \u001b[39m=\u001b[39m _utils\u001b[39m.\u001b[39mpin_memory\u001b[39m.\u001b[39mpin_memory(data, \u001b[39mself\u001b[39m\u001b[39m.\u001b[39m_pin_memory_device)\n",
      "File \u001b[1;32mc:\\Users\\jaeju\\anaconda3\\envs\\sample\\lib\\site-packages\\torch\\utils\\data\\_utils\\fetch.py:51\u001b[0m, in \u001b[0;36m_MapDatasetFetcher.fetch\u001b[1;34m(self, possibly_batched_index)\u001b[0m\n\u001b[0;32m     49\u001b[0m         data \u001b[39m=\u001b[39m \u001b[39mself\u001b[39m\u001b[39m.\u001b[39mdataset\u001b[39m.\u001b[39m__getitems__(possibly_batched_index)\n\u001b[0;32m     50\u001b[0m     \u001b[39melse\u001b[39;00m:\n\u001b[1;32m---> 51\u001b[0m         data \u001b[39m=\u001b[39m [\u001b[39mself\u001b[39m\u001b[39m.\u001b[39mdataset[idx] \u001b[39mfor\u001b[39;00m idx \u001b[39min\u001b[39;00m possibly_batched_index]\n\u001b[0;32m     52\u001b[0m \u001b[39melse\u001b[39;00m:\n\u001b[0;32m     53\u001b[0m     data \u001b[39m=\u001b[39m \u001b[39mself\u001b[39m\u001b[39m.\u001b[39mdataset[possibly_batched_index]\n",
      "File \u001b[1;32mc:\\Users\\jaeju\\anaconda3\\envs\\sample\\lib\\site-packages\\torch\\utils\\data\\_utils\\fetch.py:51\u001b[0m, in \u001b[0;36m<listcomp>\u001b[1;34m(.0)\u001b[0m\n\u001b[0;32m     49\u001b[0m         data \u001b[39m=\u001b[39m \u001b[39mself\u001b[39m\u001b[39m.\u001b[39mdataset\u001b[39m.\u001b[39m__getitems__(possibly_batched_index)\n\u001b[0;32m     50\u001b[0m     \u001b[39melse\u001b[39;00m:\n\u001b[1;32m---> 51\u001b[0m         data \u001b[39m=\u001b[39m [\u001b[39mself\u001b[39;49m\u001b[39m.\u001b[39;49mdataset[idx] \u001b[39mfor\u001b[39;00m idx \u001b[39min\u001b[39;00m possibly_batched_index]\n\u001b[0;32m     52\u001b[0m \u001b[39melse\u001b[39;00m:\n\u001b[0;32m     53\u001b[0m     data \u001b[39m=\u001b[39m \u001b[39mself\u001b[39m\u001b[39m.\u001b[39mdataset[possibly_batched_index]\n",
      "File \u001b[1;32mc:\\Users\\jaeju\\anaconda3\\envs\\sample\\lib\\site-packages\\torchvision\\datasets\\mnist.py:145\u001b[0m, in \u001b[0;36mMNIST.__getitem__\u001b[1;34m(self, index)\u001b[0m\n\u001b[0;32m    142\u001b[0m img \u001b[39m=\u001b[39m Image\u001b[39m.\u001b[39mfromarray(img\u001b[39m.\u001b[39mnumpy(), mode\u001b[39m=\u001b[39m\u001b[39m\"\u001b[39m\u001b[39mL\u001b[39m\u001b[39m\"\u001b[39m)\n\u001b[0;32m    144\u001b[0m \u001b[39mif\u001b[39;00m \u001b[39mself\u001b[39m\u001b[39m.\u001b[39mtransform \u001b[39mis\u001b[39;00m \u001b[39mnot\u001b[39;00m \u001b[39mNone\u001b[39;00m:\n\u001b[1;32m--> 145\u001b[0m     img \u001b[39m=\u001b[39m \u001b[39mself\u001b[39;49m\u001b[39m.\u001b[39;49mtransform(img)\n\u001b[0;32m    147\u001b[0m \u001b[39mif\u001b[39;00m \u001b[39mself\u001b[39m\u001b[39m.\u001b[39mtarget_transform \u001b[39mis\u001b[39;00m \u001b[39mnot\u001b[39;00m \u001b[39mNone\u001b[39;00m:\n\u001b[0;32m    148\u001b[0m     target \u001b[39m=\u001b[39m \u001b[39mself\u001b[39m\u001b[39m.\u001b[39mtarget_transform(target)\n",
      "File \u001b[1;32mc:\\Users\\jaeju\\anaconda3\\envs\\sample\\lib\\site-packages\\torchvision\\transforms\\transforms.py:95\u001b[0m, in \u001b[0;36mCompose.__call__\u001b[1;34m(self, img)\u001b[0m\n\u001b[0;32m     93\u001b[0m \u001b[39mdef\u001b[39;00m \u001b[39m__call__\u001b[39m(\u001b[39mself\u001b[39m, img):\n\u001b[0;32m     94\u001b[0m     \u001b[39mfor\u001b[39;00m t \u001b[39min\u001b[39;00m \u001b[39mself\u001b[39m\u001b[39m.\u001b[39mtransforms:\n\u001b[1;32m---> 95\u001b[0m         img \u001b[39m=\u001b[39m t(img)\n\u001b[0;32m     96\u001b[0m     \u001b[39mreturn\u001b[39;00m img\n",
      "File \u001b[1;32mc:\\Users\\jaeju\\anaconda3\\envs\\sample\\lib\\site-packages\\torchvision\\transforms\\transforms.py:137\u001b[0m, in \u001b[0;36mToTensor.__call__\u001b[1;34m(self, pic)\u001b[0m\n\u001b[0;32m    129\u001b[0m \u001b[39mdef\u001b[39;00m \u001b[39m__call__\u001b[39m(\u001b[39mself\u001b[39m, pic):\n\u001b[0;32m    130\u001b[0m \u001b[39m    \u001b[39m\u001b[39m\"\"\"\u001b[39;00m\n\u001b[0;32m    131\u001b[0m \u001b[39m    Args:\u001b[39;00m\n\u001b[0;32m    132\u001b[0m \u001b[39m        pic (PIL Image or numpy.ndarray): Image to be converted to tensor.\u001b[39;00m\n\u001b[1;32m   (...)\u001b[0m\n\u001b[0;32m    135\u001b[0m \u001b[39m        Tensor: Converted image.\u001b[39;00m\n\u001b[0;32m    136\u001b[0m \u001b[39m    \"\"\"\u001b[39;00m\n\u001b[1;32m--> 137\u001b[0m     \u001b[39mreturn\u001b[39;00m F\u001b[39m.\u001b[39;49mto_tensor(pic)\n",
      "File \u001b[1;32mc:\\Users\\jaeju\\anaconda3\\envs\\sample\\lib\\site-packages\\torchvision\\transforms\\functional.py:174\u001b[0m, in \u001b[0;36mto_tensor\u001b[1;34m(pic)\u001b[0m\n\u001b[0;32m    172\u001b[0m img \u001b[39m=\u001b[39m img\u001b[39m.\u001b[39mpermute((\u001b[39m2\u001b[39m, \u001b[39m0\u001b[39m, \u001b[39m1\u001b[39m))\u001b[39m.\u001b[39mcontiguous()\n\u001b[0;32m    173\u001b[0m \u001b[39mif\u001b[39;00m \u001b[39misinstance\u001b[39m(img, torch\u001b[39m.\u001b[39mByteTensor):\n\u001b[1;32m--> 174\u001b[0m     \u001b[39mreturn\u001b[39;00m img\u001b[39m.\u001b[39;49mto(dtype\u001b[39m=\u001b[39;49mdefault_float_dtype)\u001b[39m.\u001b[39mdiv(\u001b[39m255\u001b[39m)\n\u001b[0;32m    175\u001b[0m \u001b[39melse\u001b[39;00m:\n\u001b[0;32m    176\u001b[0m     \u001b[39mreturn\u001b[39;00m img\n",
      "\u001b[1;31mKeyboardInterrupt\u001b[0m: "
     ]
    }
   ],
   "source": [
    "# 1) 데이터를 준비\n",
    "transform = transforms.Compose([\n",
    "    transforms.ToTensor(),\n",
    "])\n",
    "\n",
    "trainSet = datasets.MNIST('./data', train=True, download=True, transform=transform)\n",
    "train_loader = torch.utils.data.DataLoader(trainSet, batch_size=256)\n",
    "\n",
    "# 2) 학습 준비\n",
    "# 학습에 필요한 요소 [Epoch/Optimizer]\n",
    "    # Epoch -> 인공지능 모델은 데이터셋을 무수히 많이 반복학습하게 됩니다.\n",
    "    # 자기 스스로 데이터의 숨겨진 패턴을 알아서 찾아내요 -> 행렬 곱 연산으로\n",
    "        \n",
    "epochs = 10 # 얼마나 인공지능 모델을 학습할 것인지 > 엔지니어가 임의로 정해주는 부분 [Hyper-parameter]\n",
    "model = MLP()\n",
    "optimizer = optim.Adam(model.parameters(), lr=0.001)\n",
    "    # optimizer: 인공지능 모델을 수정해주는 역할 -> Gradient Descent\n",
    "    # Model의 [parameter, weights, 행렬, 인공지능모델]\n",
    "    # learning rate (lr): Optimizer가 모델을 수정하는 속도 [Hyper-parameter]\n",
    "\n",
    "# 학습을 시작\n",
    "for epoch in range(epochs):\n",
    "    model.train()   # 너 학습하는 중이야\n",
    "\n",
    "    for iter_idx, (data, target) in enumerate(train_loader):\n",
    "        # data >> [256 x [1 x 28 x 28]]\n",
    "        # target >> [256 (0-9)]\n",
    "        \n",
    "        optimizer.zero_grad()   # 데이터를 모델에 넣어주기전에 optimizer.zero_grad() 꼭해줘야합니다.\n",
    "        output = model(data)    # 실제로 데이터를 모델에 넣어주는 부분\n",
    "        loss = F.nll_loss(output, target)   # Loss 손실함수 계산 -> 인공지능 모델이 얼마나 못했는지 알려주는 부분\n",
    "        loss.backward()     # 얼마나 못했는지 알았으면, 인공지능 모델의 '어떤'부분에서 이렇게 못하게 만들었는지\n",
    "        optimizer.step()    # 실제로 인공지능 모델의 행렬을 바꾸는 역할\n",
    "\n",
    "        if iter_idx % 100 == 0:\n",
    "            print(f'Epoch: [{epoch}/{epochs}], Iterations: [{iter_idx+1}/{len(train_loader)}], Running Loss: [{loss.item():.5}]')\n",
    "    \n",
    "    torch.save(model.state_dict(), \"model.pt\")  # 모델 저장 torch.save(내가 저장할 모델, \"저장할 이름\")"
   ]
  },
  {
   "cell_type": "code",
   "execution_count": null,
   "metadata": {},
   "outputs": [],
   "source": [
    "# validation vs. evaluation\n",
    "# validation (검증) -> 인공지능 모델이 학습되는 와중에, 잘 학습된 구간을 골라내기위해 '검증'한다\n",
    "# evaluation (평가) -> 학습이 끝난 모델을, 평가한다"
   ]
  },
  {
   "cell_type": "code",
   "execution_count": 9,
   "metadata": {},
   "outputs": [
    {
     "name": "stdout",
     "output_type": "stream",
     "text": [
      "Epoch: [0/10], Iterations: [1/196], Running Loss: [2.8277]\n",
      "curr_score: 0.6606000065803528\n",
      "Best Score is updated: 0 -> 0.6606000065803528\n",
      "Epoch: [1/10], Iterations: [1/196], Running Loss: [1.4285]\n",
      "curr_score: 0.6935999989509583\n",
      "Best Score is updated: 0.6606000065803528 -> 0.6935999989509583\n",
      "Epoch: [2/10], Iterations: [1/196], Running Loss: [1.2067]\n",
      "curr_score: 0.6872000098228455\n",
      "Epoch: [3/10], Iterations: [1/196], Running Loss: [1.2104]\n",
      "curr_score: 0.6873999834060669\n",
      "Epoch: [4/10], Iterations: [1/196], Running Loss: [1.0788]\n",
      "curr_score: 0.7167999744415283\n",
      "Best Score is updated: 0.6935999989509583 -> 0.7167999744415283\n",
      "Epoch: [5/10], Iterations: [1/196], Running Loss: [1.0486]\n",
      "curr_score: 0.7591999769210815\n",
      "Best Score is updated: 0.7167999744415283 -> 0.7591999769210815\n",
      "Epoch: [6/10], Iterations: [1/196], Running Loss: [0.87325]\n",
      "curr_score: 0.8026999831199646\n",
      "Best Score is updated: 0.7591999769210815 -> 0.8026999831199646\n",
      "Epoch: [7/10], Iterations: [1/196], Running Loss: [0.76405]\n",
      "curr_score: 0.8334000110626221\n",
      "Best Score is updated: 0.8026999831199646 -> 0.8334000110626221\n",
      "Epoch: [8/10], Iterations: [1/196], Running Loss: [0.64157]\n",
      "curr_score: 0.8458999991416931\n",
      "Best Score is updated: 0.8334000110626221 -> 0.8458999991416931\n",
      "Epoch: [9/10], Iterations: [1/196], Running Loss: [0.56427]\n",
      "curr_score: 0.848800003528595\n",
      "Best Score is updated: 0.8458999991416931 -> 0.848800003528595\n"
     ]
    }
   ],
   "source": [
    "def val(model, loader):\n",
    "    model.eval()\n",
    "    corr = 0\n",
    "    for data, target in loader:\n",
    "        \n",
    "        output = model(data)\n",
    "        loss = F.nll_loss(output, target)\n",
    "\n",
    "        pred = output.argmax(1)\n",
    "        corr += (pred == target).sum()\n",
    "    score = (corr / len(loader.dataset)).cpu().item()\n",
    "    return score\n",
    "\n",
    "# Generate Validation Set\n",
    "dataset = datasets.MNIST('./data', train=True, download=True, transform=transform)\n",
    "trainSet, validSet = torch.utils.data.random_split(dataset, [50000, 10000])\n",
    "train_loader = torch.utils.data.DataLoader(trainSet, batch_size=256)\n",
    "valid_loader = torch.utils.data.DataLoader(validSet, batch_size=256)\n",
    "\n",
    "best_score = 0\n",
    "epochs = 10\n",
    "optimizer = optim.Adam(model.parameters(), lr=0.001)\n",
    "for epoch in range(epochs):\n",
    "    train_one_epoch(model, train_loader, optimizer, epoch, epochs)\n",
    "    \n",
    "    with torch.no_grad():\n",
    "        curr_score = val(model, valid_loader)\n",
    "    print(f'curr_score: {curr_score}')\n",
    "    \n",
    "    if curr_score > best_score:\n",
    "        print(f'Best Score is updated: {best_score} -> {curr_score}')\n",
    "        torch.save(model.state_dict(), \"best.pt\")\n",
    "        best_score = curr_score"
   ]
  },
  {
   "cell_type": "markdown",
   "metadata": {},
   "source": [
    "#### 테스트"
   ]
  },
  {
   "cell_type": "code",
   "execution_count": 99,
   "metadata": {},
   "outputs": [],
   "source": [
    "def test(model, loader):\n",
    "    model.eval()\n",
    "    corr = 0\n",
    "    for data, target in loader:\n",
    "        \n",
    "        output = model(data)\n",
    "        loss = F.nll_loss(output, target)\n",
    "\n",
    "        pred = output.argmax(1)\n",
    "        corr += (pred == target).sum()\n",
    "    score = (corr / len(loader.dataset)).cpu().item()\n",
    "    return score\n",
    "\n",
    "# 1. 데이터 준비 (테스트셋 준비)\n",
    "# Generate Validation Set\n",
    "testSet = datasets.MNIST('./data', train=False, download=True, transform=transform)\n",
    "test_loader = torch.utils.data.DataLoader(testSet, batch_size=256)\n",
    "\n",
    "# 2. 모델 준비 (설계해서, 학습이 끝난 모델)\n",
    "model = MLP()\n",
    "model.load_state_dict( torch.load('model.pt') )\n",
    "\n",
    "# 3. 평가를 진행한다\n",
    "model.eval()    # 너 평가되는거야\n",
    "with torch.no_grad():   # 너 평가되는거니까, 학습에 사용되는거는 쓰지마\n",
    "    \n",
    "    corr = 0    # correct\n",
    "    running_loss = []\n",
    "    for data, target in test_loader:\n",
    "        \n",
    "        output = model(data)    # 확률로 변환되기 전의 값 -> Logits -> 가장 큰 값을 갖는 것을 선택\n",
    "                                # 전통적인 방식은 -> Logits -> Probabilty -> 가장 큰 확률값을 갖는 것을 선택\n",
    "\n",
    "        pred = output.argmax(1) # Prediction\n",
    "        corr += (pred == target).sum()\n",
    "        \n",
    "        loss = F.nll_loss(output, target)\n",
    "        running_loss.append(loss)\n",
    "        \n",
    "score = (corr / len(testSet)).cpu().item()  # 정확도를 측정"
   ]
  },
  {
   "cell_type": "code",
   "execution_count": null,
   "metadata": {},
   "outputs": [],
   "source": []
  },
  {
   "cell_type": "code",
   "execution_count": 106,
   "metadata": {},
   "outputs": [],
   "source": [
    "import matplotlib.pyplot as plt"
   ]
  },
  {
   "cell_type": "code",
   "execution_count": 107,
   "metadata": {},
   "outputs": [
    {
     "data": {
      "text/plain": [
       "[<matplotlib.lines.Line2D at 0x2656b350cd0>]"
      ]
     },
     "execution_count": 107,
     "metadata": {},
     "output_type": "execute_result"
    },
    {
     "data": {
      "image/png": "[encoded data removed]",
      "text/plain": [
       "<Figure size 640x480 with 1 Axes>"
      ]
     },
     "metadata": {},
     "output_type": "display_data"
    }
   ],
   "source": [
    "plt.plot(running_loss)"
   ]
  },
  {
   "cell_type": "code",
   "execution_count": null,
   "metadata": {},
   "outputs": [],
   "source": []
  },
  {
   "cell_type": "code",
   "execution_count": null,
   "metadata": {},
   "outputs": [],
   "source": []
  },
  {
   "cell_type": "code",
   "execution_count": null,
   "metadata": {},
   "outputs": [],
   "source": [
    "Pytorch -> 기업/연구실에서 빠르고, 정확하고, 편하고, 보안성 떨어지지만, 하는사람도많고, 연구공유 를 할때 좋아요\n",
    "- 연구개발용\n",
    "\n",
    "- 모든 기업/연구실 Pytorch 연구개발 (95%)\n",
    "- 테슬라 포함"
   ]
  },
  {
   "cell_type": "code",
   "execution_count": null,
   "metadata": {},
   "outputs": [],
   "source": [
    "Tensorflow -> 기업/연구실에서 빠르고, 정확한대신, 엄청나게 불편하고, 보안성이 높게 사용할 때 좋아요\n",
    "- 제품개발용\n",
    "- Pytorch Model -> Tensorflow\n",
    "\n",
    "- 국가보안연구소/NASA 등등 정부기관들\n",
    "- 대기업에서 한화 테크/ 한화 방위산업류\n",
    "- 이상탐지"
   ]
  }
 ],
 "metadata": {
  "kernelspec": {
   "display_name": "sample",
   "language": "python",
   "name": "python3"
  },
  "language_info": {
   "codemirror_mode": {
    "name": "ipython",
    "version": 3
   },
   "file_extension": ".py",
   "mimetype": "text/x-python",
   "name": "python",
   "nbconvert_exporter": "python",
   "pygments_lexer": "ipython3",
   "version": "3.8.0"
  }
 },
 "nbformat": 4,
 "nbformat_minor": 2
}
