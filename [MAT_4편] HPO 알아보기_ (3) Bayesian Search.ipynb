{
  "cells": [
    {
      "cell_type": "markdown",
      "metadata": {
        "id": "LYPsOITy0NJQ"
      },
      "source": [
        "# 목차\n",
        "\n",
        "- Bayesian Search 알아보기\n",
        "- Bayesian Search 직접 해보기\n",
        "\n",
        "  - 직접 구현해보기\n",
        "  - BayesSearchCV 사용해보기(SVM, MNIST)\n"
      ]
    },
    {
      "cell_type": "markdown",
      "metadata": {
        "id": "emlTrVT90LGw"
      },
      "source": [
        "---"
      ]
    },
    {
      "cell_type": "markdown",
      "metadata": {
        "id": "5H3mcbtx1WSv"
      },
      "source": [
        "# Bayesian Search 알아보기"
      ]
    },
    {
      "cell_type": "markdown",
      "metadata": {
        "id": "0QRfzNSlzoX4",
        "pycharm": {
          "name": "#%% md\n"
        }
      },
      "source": [
        "Bayesian Optimization은 목적 함수의 min,혹은 max값을 찾기 위해 베이즈이론(Bayes Theorem)을 사용합니다. 이 방법은 목적 함수가 복잡하고 잡음(noise)이 많은 경우에도 유용한 방식입니다."
      ]
    },
    {
      "cell_type": "markdown",
      "metadata": {
        "id": "wsUi_duBowRy"
      },
      "source": [
        "### 1. Objective Function(목적 함수)\n",
        "Bayesian Optimization에서 목적함수란 보통 입력값 $x$에 대한 미지의 함수 $f(x)$를 의미합니다.\n",
        "보통은 목적 함수의 표현식을 정확히 알지 못하기 때문에 black-box function이라고 표현하기도 합니다."
      ]
    },
    {
      "cell_type": "markdown",
      "metadata": {
        "id": "qJu1hqDxo4m3"
      },
      "source": [
        "### 2. Surrogate model\n",
        "현재까지 얻은 $Y=f(X)$ 를 바탕으로 미지의 목적 함수의 형태에 대한 확률적 추정을 하는 모델을 만듭니다."
      ]
    },
    {
      "cell_type": "markdown",
      "metadata": {
        "id": "OMinVbgJo6Vq"
      },
      "source": [
        "### 3. Acquisition Function\n",
        "목적 함수에 대한 현재까지의 추정을 기반으로 **다음 입력값 후보**를 추천하는 함수입니다."
      ]
    },
    {
      "cell_type": "markdown",
      "metadata": {
        "id": "owZlihnSoz5a"
      },
      "source": [
        "지금까지의 정보를 기반으로 Bayesian Optimizatoin 수행 과정을 글로 표현하면 다음과 같습니다.\n",
        "\n",
        "```\n",
        "for t = 1,2,... do\n",
        "    기존 (x1, f(x1)), (x2, f(x2)), ... (xt, f(xt)) 데이터셋에 대한 Surrogate model의 확률적 추정을 기반으로\n",
        "    Acquisition function을 최대화하는 다음 후보 xt+1을 선정한다\n",
        "    xt+1에 대한 f(xt+1)을 계산한다.\n",
        "    기존 데이터셋에 (xt+1, f(xt+1))을 추가하고 Surrogate model의 확률적 추정을 다시 수행한다.\n",
        "end for\n",
        "```\n"
      ]
    },
    {
      "cell_type": "markdown",
      "metadata": {
        "id": "EWooFtqMo1h2"
      },
      "source": [
        "위 글을 Pseudo code 형식으로 적으면 다음과 같습니다.\n",
        "```\n",
        "for t = 1,2,... do\n",
        "\tX, Y = [x1, ..., xt], [y1, ..., yt]\n",
        "\tx(t+1) = max(surrogate_model.predict, [Xsample1, Xsample2, ...])\n",
        "    y(t+1) = f(x(t+1))\n",
        "    X.append(x(t+1)), Y.append(y(t+1))\n",
        "    surrogate_model.fit(X(t+1), y(t+1))\n",
        "end for\n",
        "```\n"
      ]
    },
    {
      "cell_type": "markdown",
      "metadata": {
        "id": "q_gAmxhb1ZWq"
      },
      "source": [
        "# Bayesian Search 직접 해보기"
      ]
    },
    {
      "cell_type": "markdown",
      "metadata": {
        "collapsed": true,
        "id": "rwBknwM8zoX2",
        "pycharm": {
          "name": "#%% md\n"
        }
      },
      "source": [
        "\n",
        "### 1. Bayesian Optimization 직접 구현해보기\n"
      ]
    },
    {
      "cell_type": "markdown",
      "metadata": {
        "id": "M3mRjt1IzoX5",
        "pycharm": {
          "name": "#%% md\n"
        }
      },
      "source": [
        "#### (1) 실험 셋 구현\n",
        "이번에는 직접 데이터를 구성하여 실험을 진행해보도록 하겠습니다.\n",
        "\n",
        "5개의 피크를 갖는 multimodal 함수를 가정하여 예측을 진행해보았습니다.\n",
        "수식은 다음과 같습니다.\n",
        "\n",
        "$$y = x^2 × sin(5 × PI × x)^6 + \\epsilon$$\n",
        "\n",
        "- $ϵ$: Gaussian noise"
      ]
    },
    {
      "cell_type": "code",
      "execution_count": null,
      "metadata": {
        "id": "irNYcB1jzoX5",
        "pycharm": {
          "name": "#%%\n"
        }
      },
      "outputs": [],
      "source": [
        "from math import sin, pi\n",
        "from numpy.random import normal\n",
        "# objective function\n",
        "def objective(x, noise=0.1):\n",
        "    return (x**2 * sin(5 * pi * x)**6.0) + normal(loc=0, scale=noise)"
      ]
    },
    {
      "cell_type": "markdown",
      "metadata": {
        "id": "cuK2GX46zoX6",
        "pycharm": {
          "name": "#%% md\n"
        }
      },
      "source": [
        "목적 함수를 이용하여 정답과 노이즈가 있는 결과를 얻습니다."
      ]
    },
    {
      "cell_type": "code",
      "execution_count": null,
      "metadata": {
        "id": "rlomJOdxzoX6",
        "pycharm": {
          "name": "#%%\n"
        }
      },
      "outputs": [],
      "source": [
        "from numpy import arange\n",
        "# grid-based sample of the domain [0,1]\n",
        "X = arange(0, 1, 0.01)\n",
        "# sample the domain without noise\n",
        "y = [objective(x, 0) for x in X]\n",
        "ynoise = [objective(x) for x in X]"
      ]
    },
    {
      "cell_type": "markdown",
      "metadata": {
        "id": "jBfdYKZ3zoX7",
        "pycharm": {
          "name": "#%% md\n"
        }
      },
      "source": [
        "여기서 우리는 y라는 정답을 알기에 목적 함수의 최대값 $y_{max}$과 최적점 $x_{max}$를 알고 있습니다."
      ]
    },
    {
      "cell_type": "code",
      "execution_count": null,
      "metadata": {
        "id": "wx7xvlmRzoX7",
        "outputId": "4839e81f-23e2-451a-a825-d38e839c3430",
        "pycharm": {
          "name": "#%%\n"
        }
      },
      "outputs": [
        {
          "name": "stdout",
          "output_type": "stream",
          "text": [
            "Optima: x=0.900, y=0.810\n"
          ]
        }
      ],
      "source": [
        "from numpy import argmax\n",
        "# 최적점 x,y 찾기\n",
        "ix = argmax(y)\n",
        "print('Optima: x=%.3f, y=%.3f' % (X[ix], y[ix]))"
      ]
    },
    {
      "cell_type": "markdown",
      "metadata": {
        "id": "R_2jb6FdzoX8",
        "pycharm": {
          "name": "#%% md\n"
        }
      },
      "source": [
        "$X$, $y$, $y_{noise}$를 plot하면 다음과 같습니다."
      ]
    },
    {
      "cell_type": "code",
      "execution_count": null,
      "metadata": {
        "id": "l1joFi2fzoX8",
        "outputId": "81364929-8672-44f3-88d4-e8264a308bab",
        "pycharm": {
          "name": "#%%\n"
        }
      },
      "outputs": [
        {
          "data": {
            "image/png": "[encoded data removed]",
            "text/plain": [
              "<Figure size 432x288 with 1 Axes>"
            ]
          },
          "metadata": {},
          "output_type": "display_data"
        }
      ],
      "source": [
        "from matplotlib import pyplot\n",
        "# X,y(정답)곡선과 X, ynoise(노이즈) 점을 2차원 평면에 그린다.\n",
        "pyplot.scatter(X, ynoise)\n",
        "pyplot.plot(X, y)\n",
        "pyplot.show()"
      ]
    },
    {
      "cell_type": "markdown",
      "metadata": {
        "collapsed": false,
        "id": "3wHyJ2-OzoX9",
        "pycharm": {
          "name": "#%% md\n"
        }
      },
      "source": [
        "다음은 목적 함수와 surrogate function을  plot하는 함수입니다."
      ]
    },
    {
      "cell_type": "code",
      "execution_count": null,
      "metadata": {
        "id": "v-DsoARTzoX9",
        "pycharm": {
          "name": "#%%\n"
        }
      },
      "outputs": [],
      "source": [
        "def plot(X, y, model):\n",
        "\t# 목적 함수를 scatter plot\n",
        "\tpyplot.scatter(X, y)\n",
        "\t# surrogate function을 sample X를 대상으로 line plot\n",
        "\tXsamples = asarray(arange(0, 1, 0.001))\n",
        "\tXsamples = Xsamples.reshape(len(Xsamples), 1)\n",
        "\tysamples, _ = surrogate(model, Xsamples)\n",
        "\tpyplot.plot(Xsamples, ysamples)\n",
        "\tpyplot.show()"
      ]
    },
    {
      "cell_type": "markdown",
      "metadata": {
        "id": "Yy7BNbRDzoX9",
        "pycharm": {
          "name": "#%% md\n"
        }
      },
      "source": [
        "### (2) Surrogate Function 구현\n",
        "- 현재까지 모은 x,y 에 대해 미지의 목적함수에 대한 확률값을 추론하는 함수\n",
        "- RandomForest 나 Gaussian Process 가 주로 사용되며 여기서는 scikit-learn 의 GaussianProcessRegressor 를 사용\n",
        "- model은 iteration을 돌때마다 새로운 x,y에 대해 학습되며 predict 결과는 Gaussian의 mean, std로 사용"
      ]
    },
    {
      "cell_type": "code",
      "execution_count": null,
      "metadata": {
        "id": "5z85JP2BzoX9",
        "pycharm": {
          "name": "#%%\n"
        }
      },
      "outputs": [],
      "source": [
        "def surrogate(model, X):\n",
        "\treturn model.predict(X, return_std=True)"
      ]
    },
    {
      "cell_type": "markdown",
      "metadata": {
        "id": "vJ4j7dyrzoX-",
        "pycharm": {
          "name": "#%% md\n"
        }
      },
      "source": [
        "### (3) Acquisition Function\n",
        "- 목적 함수에 대한 현재까지의 확률적 추정(surrogate)을 바탕으로 최적 입력값을 찾기 위해 가장 유용할만한 다음 입력값 후보를 찾는 함수\n",
        "\n",
        "Acquisition Function에서 고려하는 포인트는 Exploration & Exploitation 이다. 직관적으로 설명하면 다음과 같이 표현할 수 있습니다.\n",
        "\n",
        "- Exploration : local optima에 빠지지 않도록 Search Space를 넓게 쓴다\n",
        "- Exploitation : 현재까지의 최적 입력값 후보 주위를 둘러본다\n",
        "\n",
        "Exploration 과 Exploitation은 다음 최적 입력값 후보를 찾기 위한 서로 다른 방식으로 trade-off 관계에 있어서 상대적 강도를 적절히 조절해야 합니다."
      ]
    },
    {
      "cell_type": "markdown",
      "metadata": {
        "id": "FwQ5E48uoT1k"
      },
      "source": [
        "#### **Expected Improvement (EI)**\n",
        "- Exploration & Exploitation 전략 모두를 일정 수준 포함하는 알고리즘으로  Acquisition Function으로 널리 쓰임\n",
        "- EI는 현재까지 추정된 목적함수를 기반으로 현재까지 조사된 f(x1), ..., f(xt) 중 최대함수값보다 더 큰 함수값을 도출할 확률(Probability of improvement, PI)를 계산\n",
        "- PI와 더불어서 그 함수값과 지금까지의 최대함수값의 차이를 고려하여 해당 입력값 x의 유용성을 계산"
      ]
    },
    {
      "cell_type": "code",
      "execution_count": null,
      "metadata": {
        "id": "uKcqdtqWzoX-",
        "pycharm": {
          "name": "#%%\n"
        }
      },
      "outputs": [],
      "source": [
        "from scipy.stats import norm\n",
        "# Expected Improvement(EI)의 probability of improvement(PI)를 계산하는 함수\n",
        "def acquisition(X, Xsamples, model):\n",
        "\t# 현재 데이터셋에서 가장 큰 yhat = f(xhat)를 찾는다\n",
        "\tyhat, _ = surrogate(model, X)\n",
        "\txhat = max(yhat)\n",
        "\t# surrogate 함수를 이용하여 Sample들의 mean, std를 계산한다.\n",
        "\tmu, std = surrogate(model, Xsamples)\n",
        "\tmu = mu[:, 0]\n",
        "\t# PI를 계산한다.\n",
        "\tprobs = norm.cdf((mu - xhat) / (std+1E-9))\n",
        "\treturn probs"
      ]
    },
    {
      "cell_type": "code",
      "execution_count": null,
      "metadata": {
        "id": "FD1sTPOmzoX-",
        "pycharm": {
          "name": "#%%\n"
        }
      },
      "outputs": [],
      "source": [
        "from numpy.random import random\n",
        "# random search로 acquisition function을 계산하여 최적값을 선택하는 함수\n",
        "def opt_acquisition(X, y, model):\n",
        "\t# random search 방식으로 random sample을 생성한다.\n",
        "\tXsamples = random(100)\n",
        "\tXsamples = Xsamples.reshape(len(Xsamples), 1)\n",
        "\t# 샘플별 acquisition 함수를 통해 스코어를 계산한다.\n",
        "\tscores = acquisition(X, Xsamples, model)\n",
        "\t# 가장 높은 스코어를 뽑는다.\n",
        "\tix = argmax(scores)\n",
        "\treturn Xsamples[ix, 0]"
      ]
    },
    {
      "cell_type": "markdown",
      "metadata": {
        "id": "mK51s2hXzoX-",
        "pycharm": {
          "name": "#%% md\n"
        }
      },
      "source": [
        "이제 만들어둔 Surrogate, Acquisition 함수를 사용하여 목적 함수의 최적값을 찾아봅시다.\n",
        "먼저 현재까지의 데이터셋 X,y, 그리고 Surrogate 함수의 Gaussian Process Regressor 모델을 데이터셋으로 학습시키는 초기화 함수 init()를 만들었습니다."
      ]
    },
    {
      "cell_type": "code",
      "execution_count": null,
      "metadata": {
        "id": "Y9IpQ4ylzoX-",
        "pycharm": {
          "name": "#%%\n"
        }
      },
      "outputs": [],
      "source": [
        "def init():\n",
        "\tX = random(100)\n",
        "\ty = asarray([objective(x) for x in X])\n",
        "\t# reshape into rows and cols\n",
        "\tX = X.reshape(len(X), 1)\n",
        "\ty = y.reshape(len(y), 1)\n",
        "\t# surrogate functino에 사용할 Gaussian Process Regressor 모델\n",
        "\tmodel = GaussianProcessRegressor()\n",
        "\t# 지금까지 Sample로 학습한다.\n",
        "\tmodel.fit(X, y)\n",
        "\treturn X,y, model\n"
      ]
    },
    {
      "cell_type": "code",
      "execution_count": null,
      "metadata": {
        "id": "JxwB3TZezoX_",
        "outputId": "3a840e7f-cdc2-40e2-8385-5e6647a8d878",
        "pycharm": {
          "name": "#%%\n"
        }
      },
      "outputs": [
        {
          "data": {
            "image/png": "[encoded data removed]",
            "text/plain": [
              "<Figure size 432x288 with 1 Axes>"
            ]
          },
          "metadata": {},
          "output_type": "display_data"
        },
        {
          "name": "stdout",
          "output_type": "stream",
          "text": [
            ">x=0.904, f()=0.262839, actual=0.907\n",
            ">x=0.905, f()=0.315028, actual=0.761\n",
            ">x=0.912, f()=0.348509, actual=0.778\n",
            ">x=0.783, f()=0.169616, actual=-0.062\n",
            ">x=0.911, f()=0.376513, actual=0.617\n",
            ">x=0.995, f()=-0.089727, actual=0.088\n",
            ">x=0.934, f()=0.369071, actual=0.485\n",
            ">x=0.156, f()=0.075671, actual=-0.017\n",
            ">x=0.501, f()=0.120352, actual=0.220\n",
            ">x=0.829, f()=0.250556, actual=0.101\n",
            ">x=0.431, f()=0.079270, actual=-0.061\n",
            ">x=0.194, f()=0.048010, actual=0.001\n",
            ">x=0.915, f()=0.391403, actual=0.631\n",
            ">x=0.187, f()=0.049199, actual=0.104\n",
            ">x=0.913, f()=0.405178, actual=0.405\n",
            ">x=0.914, f()=0.405249, actual=0.719\n",
            ">x=0.887, f()=0.393252, actual=0.758\n",
            ">x=0.845, f()=0.311886, actual=-0.052\n",
            ">x=0.915, f()=0.427714, actual=0.852\n",
            ">x=0.917, f()=0.447460, actual=0.584\n",
            ">x=0.378, f()=0.033215, actual=0.023\n",
            ">x=0.742, f()=0.094584, actual=0.292\n",
            ">x=0.670, f()=0.093338, actual=0.248\n",
            ">x=0.915, f()=0.451277, actual=0.593\n",
            ">x=0.166, f()=0.069511, actual=-0.068\n",
            ">x=0.892, f()=0.435380, actual=0.878\n",
            ">x=0.638, f()=0.110312, actual=-0.031\n",
            ">x=0.500, f()=0.124995, actual=0.173\n",
            ">x=0.132, f()=0.068447, actual=0.190\n",
            ">x=0.752, f()=0.117468, actual=0.180\n",
            ">x=0.039, f()=0.010005, actual=0.048\n",
            ">x=0.696, f()=0.088107, actual=0.579\n",
            ">x=0.915, f()=0.471139, actual=0.721\n",
            ">x=0.914, f()=0.480944, actual=0.629\n",
            ">x=0.914, f()=0.486546, actual=0.653\n",
            ">x=0.770, f()=0.162725, actual=-0.165\n",
            ">x=0.917, f()=0.492422, actual=0.672\n",
            ">x=0.915, f()=0.498813, actual=0.799\n",
            ">x=0.916, f()=0.508999, actual=0.854\n",
            ">x=0.407, f()=0.054260, actual=-0.001\n",
            ">x=0.441, f()=0.086305, actual=-0.061\n",
            ">x=0.916, f()=0.520101, actual=0.738\n",
            ">x=0.863, f()=0.418770, actual=0.355\n",
            ">x=0.842, f()=0.346813, actual=0.038\n",
            ">x=0.918, f()=0.521179, actual=0.551\n",
            ">x=0.794, f()=0.190294, actual=0.017\n",
            ">x=0.147, f()=0.085180, actual=-0.087\n",
            ">x=0.728, f()=0.087003, actual=0.239\n",
            ">x=0.930, f()=0.510575, actual=0.282\n",
            ">x=0.911, f()=0.511446, actual=0.884\n",
            ">x=0.232, f()=0.019304, actual=-0.041\n",
            ">x=0.193, f()=0.044694, actual=0.225\n",
            ">x=0.744, f()=0.104913, actual=0.261\n",
            ">x=0.917, f()=0.523904, actual=0.782\n",
            ">x=0.918, f()=0.531087, actual=0.587\n",
            ">x=0.619, f()=0.131147, actual=-0.053\n",
            ">x=0.813, f()=0.248909, actual=0.114\n",
            ">x=0.239, f()=0.019194, actual=-0.174\n",
            ">x=0.400, f()=0.038350, actual=0.080\n",
            ">x=0.999, f()=-0.167377, actual=0.086\n",
            ">x=0.091, f()=0.066017, actual=0.077\n",
            ">x=0.388, f()=0.029385, actual=-0.132\n",
            ">x=0.051, f()=0.026243, actual=-0.130\n",
            ">x=0.214, f()=0.030258, actual=-0.052\n",
            ">x=0.680, f()=0.091080, actual=0.263\n",
            ">x=0.941, f()=0.498564, actual=0.169\n",
            ">x=0.004, f()=-0.051871, actual=-0.013\n",
            ">x=0.393, f()=0.028446, actual=-0.089\n",
            ">x=0.553, f()=0.147019, actual=-0.144\n",
            ">x=0.128, f()=0.066268, actual=0.118\n",
            ">x=0.541, f()=0.134795, actual=-0.073\n",
            ">x=0.917, f()=0.520805, actual=0.757\n",
            ">x=0.322, f()=-0.014263, actual=0.119\n",
            ">x=0.061, f()=0.026772, actual=-0.080\n",
            ">x=0.755, f()=0.124081, actual=-0.059\n",
            ">x=0.324, f()=-0.009163, actual=0.021\n",
            ">x=0.867, f()=0.422852, actual=0.276\n",
            ">x=0.086, f()=0.042552, actual=0.049\n",
            ">x=0.919, f()=0.524715, actual=0.555\n",
            ">x=0.920, f()=0.525428, actual=0.538\n",
            ">x=0.982, f()=0.168230, actual=-0.052\n",
            ">x=0.182, f()=0.051833, actual=0.121\n",
            ">x=0.709, f()=0.081820, actual=0.261\n",
            ">x=0.919, f()=0.523295, actual=0.909\n",
            ">x=0.955, f()=0.429440, actual=0.202\n",
            ">x=0.153, f()=0.066051, actual=-0.054\n",
            ">x=0.917, f()=0.527870, actual=0.616\n",
            ">x=0.918, f()=0.529830, actual=0.733\n",
            ">x=0.921, f()=0.533543, actual=0.587\n",
            ">x=0.032, f()=-0.014144, actual=0.043\n",
            ">x=0.498, f()=0.112469, actual=0.156\n",
            ">x=0.688, f()=0.084541, actual=0.415\n",
            ">x=0.503, f()=0.118565, actual=0.093\n",
            ">x=0.491, f()=0.109565, actual=0.244\n",
            ">x=0.925, f()=0.530605, actual=0.526\n",
            ">x=0.918, f()=0.534447, actual=0.601\n",
            ">x=0.917, f()=0.535839, actual=0.733\n",
            ">x=0.120, f()=0.060370, actual=0.198\n",
            ">x=0.137, f()=0.070334, actual=-0.060\n",
            ">x=0.917, f()=0.539791, actual=0.594\n"
          ]
        },
        {
          "data": {
            "image/png": "[encoded data removed]",
            "text/plain": [
              "<Figure size 432x288 with 1 Axes>"
            ]
          },
          "metadata": {},
          "output_type": "display_data"
        },
        {
          "name": "stdout",
          "output_type": "stream",
          "text": [
            "Best Result: x=0.919, y=0.909\n"
          ]
        }
      ],
      "source": [
        "from sklearn.gaussian_process import GaussianProcessRegressor\n",
        "from numpy import asarray, vstack\n",
        "\n",
        "# 최적화전 데이터셋과 Surrogate model\n",
        "X, y, model = init()\n",
        "plot(X, y, model)\n",
        "# Bayesian Optimization을 수행\n",
        "for i in range(100):\n",
        "\t# 다음 샘플을 얻는다\n",
        "\tx_sample = opt_acquisition(X, y, model)\n",
        "\t# 목적함수를 거친 결과를 얻는다\n",
        "\ty_sample = objective(x_sample)\n",
        "\t# summarize the finding\n",
        "\test, _ = surrogate(model, [[x_sample]])\n",
        "\tprint('>x=%.3f, f()=%3f, actual=%.3f' % (x_sample, est, y_sample))\n",
        "\t# 새로운 x_sample, y_sample을 지금까지의 데이터셋에 추가한다\n",
        "\tX = vstack((X, [[x_sample]]))\n",
        "\ty = vstack((y, [[y_sample]]))\n",
        "\t# update the model\n",
        "\tmodel.fit(X, y)\n",
        "\n",
        "# 최적화를 마친 후 결과를 그린다\n",
        "plot(X, y, model)\n",
        "# 최적값을 출력한다.\n",
        "ix = argmax(y)\n",
        "print('Best Result: x=%.3f, y=%.3f' % (X[ix], y[ix]))"
      ]
    },
    {
      "cell_type": "markdown",
      "metadata": {
        "id": "_qOVKkOszoX_",
        "pycharm": {
          "name": "#%% md\n"
        }
      },
      "source": [
        "## 2. BayesSearchCV 사용해보기\n",
        "\n",
        "Bayesian Search - Scikit-optimize 활용"
      ]
    },
    {
      "cell_type": "markdown",
      "metadata": {
        "id": "JT8Sew5mqYvK"
      },
      "source": [
        "이번에는 쉽게 사용할 수 있는 라이브러리를 활용하여 하이퍼파라미터를 최적화해보겠습니다. 이번엔 앞에서 직접 구현한 것과 달리 MNIST 데이터를 활용했으며, 이를 분류하기 위한 모델로 SVM 을 활용하였습니다."
      ]
    },
    {
      "cell_type": "markdown",
      "metadata": {
        "id": "M0Ql8tetzoX_",
        "pycharm": {
          "name": "#%% md\n"
        }
      },
      "source": [
        "- 사용모델: SVM\n",
        "- 사용데이터: [MNIST](https://scikit-learn.org/stable/modules/generated/sklearn.datasets.load_digits.html)\n",
        "\n",
        "> class sklearn.svm.SVC(*, C=1.0, kernel='rbf', degree=3, gamma='scale', coef0=0.0, shrinking=True, probability=False, tol=0.001, cache_size=200, class_weight=None, verbose=False, max_iter=- 1, decision_function_shape='ovr', break_ties=False, random_state=None)\n",
        "\n",
        "- **C** : Regularization parameter, 노이즈가 많은 환경에서 C값을 줄이면 regularization을 더함\n",
        "- **kernel** : kernel type, `linear`, `polynomial`, `rbf`, `sigmoid` 카테고리 중 선택\n",
        "- **gamma** : rbf kernel의 파라미터로 0보다 큰 값을 가짐\n",
        "- **degree** : polynomial kernel 파라미터"
      ]
    },
    {
      "cell_type": "markdown",
      "metadata": {
        "id": "E454VEQ728qR"
      },
      "source": [
        "### 라이브러리 및 데이터 로드"
      ]
    },
    {
      "cell_type": "code",
      "execution_count": null,
      "metadata": {
        "id": "ma8uO1dh2UIr"
      },
      "outputs": [],
      "source": [
        "from skopt import BayesSearchCV\n",
        "from sklearn.datasets import load_digits\n",
        "from sklearn.svm import SVC\n",
        "from sklearn.model_selection import train_test_split\n",
        "\n",
        "X, y = load_digits(n_class=10, return_X_y=True)\n",
        "X_train, X_test, y_train, y_test = train_test_split(X, y, train_size=0.75, test_size=.25, random_state=0)"
      ]
    },
    {
      "cell_type": "markdown",
      "metadata": {
        "id": "QUPN7JlK3AkX"
      },
      "source": [
        "### 모델 최적화 및 최적화 결과"
      ]
    },
    {
      "cell_type": "code",
      "execution_count": null,
      "metadata": {
        "id": "lDmsSjKezoX_",
        "outputId": "c85c8510-f676-4661-f065-2c726920886e",
        "pycharm": {
          "name": "#%%\n"
        }
      },
      "outputs": [
        {
          "name": "stdout",
          "output_type": "stream",
          "text": [
            "val. score: 0.9910913140311804\n",
            "test score: 0.9933333333333333\n"
          ]
        }
      ],
      "source": [
        "opt = BayesSearchCV(\n",
        "    SVC(),\n",
        "    {\n",
        "        'C': (1e-6, 1e+6, 'log-uniform'),\n",
        "        'gamma': (1e-6, 1e+1, 'log-uniform'),\n",
        "        'degree': (1, 8),  # integer valued parameter\n",
        "        'kernel': ['linear', 'poly', 'rbf'],  # categorical parameter\n",
        "    },\n",
        "    n_iter=32,\n",
        "    cv=3\n",
        ")\n",
        "\n",
        "opt.fit(X_train, y_train)\n",
        "\n",
        "print(\"val. score: %s\" % opt.best_score_)\n",
        "print(\"test score: %s\" % opt.score(X_test, y_test))"
      ]
    },
    {
      "cell_type": "markdown",
      "metadata": {
        "id": "y2YgbgOwrZMM"
      },
      "source": [
        "수행 시 데이터 분류에 적합한 하이퍼파라미터를 찾아낸 것을 확인할 수 있습니다."
      ]
    },
    {
      "cell_type": "markdown",
      "metadata": {
        "id": "zpvmOKecrkz8"
      },
      "source": [
        "---"
      ]
    },
    {
      "cell_type": "markdown",
      "metadata": {
        "id": "NP4FgaUrrlOH"
      },
      "source": [
        "이번 글에서는 Bayesian Search에 대해 알아보고, 이를 코드로 구현해보았습니다. 실제 하이퍼파라미터 최적화 문제에도 적용해봤을 때, 빠르게 좋은 성능이 나오는 것을 확인해볼 수 있었습니다.\n",
        "\n",
        "\n",
        "이번 글까지 HPO에서 가장 기본이 되는 알고리즘들을 살펴보았습니다. 다음 글에서는 HPO 와 관련한 논문들을 간단히 살펴보도록 하겠습니다.\n",
        "\n",
        "읽어주셔 감사합니다. :)"
      ]
    }
  ],
  "metadata": {
    "colab": {
      "name": "MAT 04-3 Bayesian Search.ipynb",
      "provenance": []
    },
    "kernelspec": {
      "display_name": "Python 3 (ipykernel)",
      "language": "python",
      "name": "python3"
    },
    "language_info": {
      "codemirror_mode": {
        "name": "ipython",
        "version": 3
      },
      "file_extension": ".py",
      "mimetype": "text/x-python",
      "name": "python",
      "nbconvert_exporter": "python",
      "pygments_lexer": "ipython3",
      "version": "3.8.10"
    }
  },
  "nbformat": 4,
  "nbformat_minor": 0
}
